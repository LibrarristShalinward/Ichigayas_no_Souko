{
 "cells": [
  {
   "cell_type": "code",
   "execution_count": null,
   "source": [
    "from Ichigaya import chart\r\n",
    "刹那旅行 = chart.Chart(77, \"hard\")\r\n",
    "刹那旅行.to_path(\"谱面\")\r\n",
    "json = 刹那旅行.load()"
   ],
   "outputs": [],
   "metadata": {}
  },
  {
   "cell_type": "code",
   "execution_count": null,
   "source": [
    "刹那旅行.b_s_trans(285.1)"
   ],
   "outputs": [],
   "metadata": {}
  },
  {
   "cell_type": "code",
   "execution_count": null,
   "source": [
    "chart_keys = {\r\n",
    "    \"Single\": [], \r\n",
    "    \"Hold\": [], \r\n",
    "    \"Flick\": [], \r\n",
    "    \"Hold&Flick\": [], \r\n",
    "    \"Left\": [], \r\n",
    "    \"Right\": []\r\n",
    "}\r\n",
    "time_stamps = []\r\n",
    "for i in json:\r\n",
    "    if i[\"type\"] == \"BPM\":\r\n",
    "        time_stamps.append(i)\r\n",
    "    elif i[\"type\"] == \"Single\":\r\n",
    "        if \"flick\" in i.keys():\r\n",
    "            chart_keys[\"Flick\"].append(i)\r\n",
    "        else:\r\n",
    "            chart_keys[\"Single\"].append(i)\r\n",
    "    elif i[\"type\"] == \"Directional\":\r\n",
    "        if i[\"direction\"] == \"Left\":\r\n",
    "            chart_keys[\"Left\"].append(i)\r\n",
    "        else:\r\n",
    "            chart_keys[\"Right\"].append(i)\r\n",
    "    elif i[\"type\"] != \"System\":\r\n",
    "        if \"flick\" in i[\"connections\"][-1].keys():\r\n",
    "            chart_keys[\"Hold&Flick\"].append(i)\r\n",
    "        else:\r\n",
    "            chart_keys[\"Hold\"].append(i)\r\n"
   ],
   "outputs": [],
   "metadata": {}
  },
  {
   "cell_type": "code",
   "execution_count": null,
   "source": [
    "for i in 刹那旅行.schedule:\r\n",
    "    print(i[2] if type(i) == tuple else i.beat)"
   ],
   "outputs": [],
   "metadata": {}
  },
  {
   "cell_type": "code",
   "execution_count": null,
   "source": [
    "x = 刹那旅行.get_min_retouch()"
   ],
   "outputs": [],
   "metadata": {}
  },
  {
   "cell_type": "code",
   "execution_count": null,
   "source": [
    "print(x)"
   ],
   "outputs": [],
   "metadata": {}
  },
  {
   "cell_type": "code",
   "execution_count": null,
   "source": [
    "刹那旅行.get_len()"
   ],
   "outputs": [],
   "metadata": {}
  },
  {
   "cell_type": "code",
   "execution_count": null,
   "source": [
    "刹那旅行.b_s_trans(221.5729)"
   ],
   "outputs": [],
   "metadata": {}
  },
  {
   "cell_type": "code",
   "execution_count": null,
   "source": [
    "shadow = {}\r\n",
    "for single in chart_keys[\"Single\"]:\r\n",
    "    beat = str(single[\"beat\"])\r\n",
    "    if beat in shadow.keys():\r\n",
    "        shadow[beat].append(single[\"lane\"])\r\n",
    "    else:\r\n",
    "        shadow.update({beat: [single[\"lane\"]]})"
   ],
   "outputs": [],
   "metadata": {}
  },
  {
   "cell_type": "code",
   "execution_count": null,
   "source": [
    "for hold in chart_keys[\"Hold\"]:\r\n",
    "    for node in [hold[\"connections\"][0], hold[\"connections\"][-1]]:\r\n",
    "        beat = str(node[\"beat\"])\r\n",
    "        if beat in shadow.keys():\r\n",
    "            shadow[beat].append(node[\"lane\"])\r\n",
    "        else:\r\n",
    "            shadow.update({beat: [node[\"lane\"]]})"
   ],
   "outputs": [],
   "metadata": {}
  },
  {
   "cell_type": "code",
   "execution_count": null,
   "source": [
    "for hold in chart_keys[\"Hold&Flick\"]:\r\n",
    "    for node in [hold[\"connections\"][0], hold[\"connections\"][-1]]:\r\n",
    "        beat = str(node[\"beat\"])\r\n",
    "        if beat in shadow.keys():\r\n",
    "            shadow[beat].append(node[\"lane\"])\r\n",
    "        else:\r\n",
    "            shadow.update({beat: [node[\"lane\"]]})"
   ],
   "outputs": [],
   "metadata": {}
  },
  {
   "cell_type": "code",
   "execution_count": null,
   "source": [
    "for single in chart_keys[\"Flick\"]:\r\n",
    "    beat = str(single[\"beat\"])\r\n",
    "    if beat in shadow.keys():\r\n",
    "        shadow[beat].append(single[\"lane\"])\r\n",
    "    else:\r\n",
    "        shadow.update({beat: [single[\"lane\"]]})\r\n",
    "\r\n",
    "for single in chart_keys[\"Left\"]:\r\n",
    "    beat = str(single[\"beat\"])\r\n",
    "    if beat in shadow.keys():\r\n",
    "        shadow[beat].append(single[\"lane\"])\r\n",
    "    else:\r\n",
    "        shadow.update({beat: [single[\"lane\"]]})\r\n",
    "\r\n",
    "for single in chart_keys[\"Right\"]:\r\n",
    "    beat = str(single[\"beat\"])\r\n",
    "    if beat in shadow.keys():\r\n",
    "        shadow[beat].append(single[\"lane\"])\r\n",
    "    else:\r\n",
    "        shadow.update({beat: [single[\"lane\"]]})"
   ],
   "outputs": [],
   "metadata": {}
  },
  {
   "cell_type": "code",
   "execution_count": null,
   "source": [
    "links = {}\r\n",
    "for stamp in shadow.keys():\r\n",
    "    if len(shadow[stamp]) > 1:\r\n",
    "        links.update({stamp: shadow[stamp]})\r\n",
    "print(links)"
   ],
   "outputs": [],
   "metadata": {}
  },
  {
   "cell_type": "code",
   "execution_count": null,
   "source": [
    "key_shape = {\r\n",
    "    \"Single\": \" (===========) \", \r\n",
    "    \"Flick\": \" (^^^^^^^^^^^) \", \r\n",
    "    \"Hold_start\": \" /===========\\\\ \", \r\n",
    "    \"Hold_end\": \" \\\\===========/ \", \r\n",
    "    \"Hold_body\": \"  +         +  \", \r\n",
    "    \"Hold_node\": \"  +   ---   +  \", \r\n",
    "    \"Left\": [\r\n",
    "        \" <===========0 \", \r\n",
    "        \" <<<=======================0   \", \r\n",
    "        \" <<<<<===================================0     \"\r\n",
    "    ], \r\n",
    "    \"Right\": [\r\n",
    "        \" 0===========> \", \r\n",
    "        \"   0=======================>>> \", \r\n",
    "        \"     0===================================>>>>> \"\r\n",
    "    ]\r\n",
    "}\r\n",
    "chart_pos = {\r\n",
    "    \"left\": [1, 17, 33, 49, 65, 81, 97], \r\n",
    "    \"right\": [15, 31, 47, 63, 79, 95, 111],\r\n",
    "    \"middel\": [8, 24, 40, 56, 72, 88, 104] \r\n",
    "}"
   ],
   "outputs": [],
   "metadata": {}
  },
  {
   "cell_type": "code",
   "execution_count": null,
   "source": [
    "bpm = 145\r\n",
    "length = 288 + 1\r\n",
    "freq = 60 / bpm\r\n",
    "expand = 1 / freq\r\n",
    "if expand < 1.41: bps = 1\r\n",
    "elif expand < 2.82: bps = 2\r\n",
    "else: bps = 4\r\n",
    "lpb = int(64 / bps)\r\n",
    "chart_line = lpb * length\r\n",
    "blank = (\"|\" + \" \" * 15)*7 + \"|\"\r\n",
    "chart_text = [blank] * chart_line"
   ],
   "outputs": [],
   "metadata": {}
  },
  {
   "cell_type": "code",
   "execution_count": null,
   "source": [
    "for single in chart_keys[\"Single\"]:\r\n",
    "    line = int((float(single[\"beat\"]) * lpb))\r\n",
    "    lane = single[\"lane\"]\r\n",
    "    node = chart_pos[\"left\"][lane], chart_pos[\"right\"][lane]\r\n",
    "    line_chart = chart_text[line]\r\n",
    "    line_chart = line_chart[:node[0]] + key_shape[\"Single\"] + line_chart[node[1]+1:]\r\n",
    "    chart_text[line] = line_chart"
   ],
   "outputs": [],
   "metadata": {}
  },
  {
   "cell_type": "code",
   "execution_count": null,
   "source": [
    "for single in chart_keys[\"Flick\"]:\r\n",
    "    line = int((float(single[\"beat\"]) * lpb))\r\n",
    "    lane = single[\"lane\"]\r\n",
    "    node = chart_pos[\"left\"][lane], chart_pos[\"right\"][lane]\r\n",
    "    line_chart = chart_text[line]\r\n",
    "    line_chart = line_chart[:node[0]] + key_shape[\"Flick\"] + line_chart[node[1]+1:]\r\n",
    "    chart_text[line] = line_chart"
   ],
   "outputs": [],
   "metadata": {}
  },
  {
   "cell_type": "code",
   "execution_count": null,
   "source": [
    "for beat in links.keys():\r\n",
    "    line = int((float(beat) * lpb))\r\n",
    "    if links[beat][0] < links[beat][1]:\r\n",
    "        node = chart_pos[\"middel\"][links[beat][0]], chart_pos[\"middel\"][links[beat][1]]\r\n",
    "    else: \r\n",
    "        node = chart_pos[\"middel\"][links[beat][1]], chart_pos[\"middel\"][links[beat][0]]\r\n",
    "    line_chart = chart_text[line]\r\n",
    "    new_line_chart = \"\"\r\n",
    "    for i in range(len(line_chart)):\r\n",
    "        if line_chart[i] in [\" \", \"|\"] and (i >= node[0] and i <= node[1]):\r\n",
    "            new_line_chart += \"-\"\r\n",
    "        else:\r\n",
    "            new_line_chart += line_chart[i]\r\n",
    "    chart_text[line] = new_line_chart"
   ],
   "outputs": [],
   "metadata": {}
  },
  {
   "cell_type": "code",
   "execution_count": null,
   "source": [
    "time_step = [0] * len(chart_text)\r\n",
    "for stamp in time_stamps:\r\n",
    "    index = int((float(stamp[\"beat\"]) * lpb))\r\n",
    "    step = 60 / float(stamp[\"bpm\"]) / lpb\r\n",
    "    for i in range(index, len(chart_text)):\r\n",
    "        time_step[i] = step"
   ],
   "outputs": [],
   "metadata": {}
  },
  {
   "cell_type": "code",
   "execution_count": null,
   "source": [
    "line_view = 64\r\n",
    "line_stride = int(line_view / 8)\r\n",
    "time_stride = []\r\n",
    "display_charts = []\r\n",
    "for i in range(0, len(chart_text) - line_view, line_stride):\r\n",
    "    time_stride.append(\r\n",
    "        sum(time_step[i:i + line_stride]))\r\n",
    "    display_charts.append(\r\n",
    "        [chart_text[i: i + line_view]]\r\n",
    "    )\r\n",
    "    display_charts[-1] = display_charts[-1][::-1]"
   ],
   "outputs": [],
   "metadata": {}
  },
  {
   "cell_type": "code",
   "execution_count": null,
   "source": [
    "a = [1,2,3,6,5,4]"
   ],
   "outputs": [],
   "metadata": {}
  },
  {
   "cell_type": "code",
   "execution_count": null,
   "source": [
    "from Ichigaya.chart import get_charts\r\n",
    "all_charts = get_charts(diff = [\"expert\", \"special\"], process = True)"
   ],
   "outputs": [],
   "metadata": {}
  },
  {
   "cell_type": "code",
   "execution_count": null,
   "source": [
    "all_charts = sorted(all_charts, key = lambda chart: chart.max_combo, reverse = True)\r\n",
    "for chart in all_charts[:20]:\r\n",
    "    print(chart.get()[0], chart.get()[1], chart.max_combo)"
   ],
   "outputs": [],
   "metadata": {}
  },
  {
   "cell_type": "code",
   "execution_count": null,
   "source": [
    "all_charts = sorted(all_charts, key = lambda chart: chart.amount, reverse = True)\r\n",
    "for chart in all_charts[:20]:\r\n",
    "    print(chart.get()[0], chart.get()[1], chart.amount)"
   ],
   "outputs": [],
   "metadata": {}
  },
  {
   "cell_type": "code",
   "execution_count": null,
   "source": [
    "from Ichigaya import id_name_trans"
   ],
   "outputs": [],
   "metadata": {}
  },
  {
   "cell_type": "code",
   "execution_count": null,
   "source": [
    "id_name_trans(\"LOUDER\")"
   ],
   "outputs": [],
   "metadata": {}
  },
  {
   "cell_type": "code",
   "execution_count": null,
   "source": [
    "刹那旅行.get_point_list()"
   ],
   "outputs": [],
   "metadata": {}
  },
  {
   "cell_type": "code",
   "execution_count": null,
   "source": [
    "x = [1, 2, 3, 4, 5]\r\n",
    "x.pop(3)\r\n",
    "x"
   ],
   "outputs": [],
   "metadata": {}
  },
  {
   "cell_type": "code",
   "execution_count": null,
   "source": [
    "for simo in 刹那旅行.simo:\r\n",
    "    print(simo.obj1, simo.obj2, simo.beat, simo.lane)"
   ],
   "outputs": [],
   "metadata": {}
  },
  {
   "cell_type": "code",
   "execution_count": null,
   "source": [
    "for i, point in enumerate(刹那旅行.get_points()):\r\n",
    "    if point[2] == 0:\r\n",
    "        print(i, point)"
   ],
   "outputs": [],
   "metadata": {}
  },
  {
   "cell_type": "code",
   "execution_count": null,
   "source": [
    "for i in 刹那旅行.keys[\"Flick\"]:\r\n",
    "    print(i.beat, i.lane)"
   ],
   "outputs": [],
   "metadata": {}
  },
  {
   "cell_type": "code",
   "execution_count": null,
   "source": [
    "刹那旅行.schedule"
   ],
   "outputs": [],
   "metadata": {}
  },
  {
   "cell_type": "code",
   "execution_count": null,
   "source": [
    "pl = 刹那旅行.get_point_list()\r\n",
    "pl = sorted(pl, key = lambda point: point[2])\r\n",
    "pl"
   ],
   "outputs": [],
   "metadata": {}
  },
  {
   "cell_type": "code",
   "execution_count": null,
   "source": [
    "s = 刹那旅行.keys[\"Single\"]\r\n",
    "s = sorted(s, key = lambda sin: sin.beat)"
   ],
   "outputs": [],
   "metadata": {}
  },
  {
   "cell_type": "code",
   "execution_count": null,
   "source": [
    "from Ichigaya import chart\r\n",
    "for i in range(500):\r\n",
    "    test_chart = chart.Chart(i + 1, \"special\")\r\n",
    "    test_chart.to_path(\"谱面\")\r\n",
    "    if test_chart.exists():\r\n",
    "        try:\r\n",
    "            test_chart.load()\r\n",
    "        except:\r\n",
    "            print(i + 1)"
   ],
   "outputs": [],
   "metadata": {}
  },
  {
   "cell_type": "code",
   "execution_count": null,
   "source": [],
   "outputs": [],
   "metadata": {}
  }
 ],
 "metadata": {
  "orig_nbformat": 4,
  "language_info": {
   "name": "python",
   "version": "3.8.1",
   "mimetype": "text/x-python",
   "codemirror_mode": {
    "name": "ipython",
    "version": 3
   },
   "pygments_lexer": "ipython3",
   "nbconvert_exporter": "python",
   "file_extension": ".py"
  },
  "kernelspec": {
   "name": "python3",
   "display_name": "Python 3.8.1 64-bit"
  },
  "interpreter": {
   "hash": "9c4178638202bf36d847b6f9758ad492f78e3205c6ec371305eb925a87dfd87d"
  }
 },
 "nbformat": 4,
 "nbformat_minor": 2
}